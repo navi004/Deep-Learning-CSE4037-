{
  "nbformat": 4,
  "nbformat_minor": 0,
  "metadata": {
    "colab": {
      "provenance": [],
      "gpuType": "T4",
      "include_colab_link": true
    },
    "kernelspec": {
      "name": "python3",
      "display_name": "Python 3"
    },
    "language_info": {
      "name": "python"
    },
    "accelerator": "GPU"
  },
  "cells": [
    {
      "cell_type": "markdown",
      "metadata": {
        "id": "view-in-github",
        "colab_type": "text"
      },
      "source": [
        "<a href=\"https://colab.research.google.com/github/navi004/Deep-Learning-CSE4037-/blob/main/22mia1049_Lab7_FineTuning.ipynb\" target=\"_parent\"><img src=\"https://colab.research.google.com/assets/colab-badge.svg\" alt=\"Open In Colab\"/></a>"
      ]
    },
    {
      "cell_type": "markdown",
      "source": [
        "# Fine Tuning LSTM with IMDB and Amazon Dataset\n",
        "# LAB-7\n",
        "* Naveen Nidadavolu\n",
        "* 22MIA1049"
      ],
      "metadata": {
        "id": "HVMRz9qOLyz8"
      }
    },
    {
      "cell_type": "markdown",
      "source": [
        "# Import libraries"
      ],
      "metadata": {
        "id": "YJQ2KUIzLjkz"
      }
    },
    {
      "cell_type": "code",
      "source": [
        "import tensorflow as tf\n",
        "from tensorflow.keras.datasets import imdb\n",
        "from tensorflow.keras.preprocessing.sequence import pad_sequences\n",
        "from tensorflow.keras.models import Sequential\n",
        "from tensorflow.keras.layers import Embedding, LSTM, Dense"
      ],
      "metadata": {
        "id": "Yq2L3HntKiNB"
      },
      "execution_count": 1,
      "outputs": []
    },
    {
      "cell_type": "markdown",
      "source": [
        "# Parameters"
      ],
      "metadata": {
        "id": "bZJfuZtaLmB6"
      }
    },
    {
      "cell_type": "code",
      "source": [
        "max_features = 10000\n",
        "max_len = 200\n",
        "embedding_dim = 128\n",
        "lstm_unis = 128\n",
        "batch_size = 128\n",
        "epochs = 5"
      ],
      "metadata": {
        "id": "rEcvfkjdKjy1"
      },
      "execution_count": 2,
      "outputs": []
    },
    {
      "cell_type": "markdown",
      "source": [
        "#Training and Testing data with labels"
      ],
      "metadata": {
        "id": "WPETk9KVLiWL"
      }
    },
    {
      "cell_type": "code",
      "source": [
        "(x_train, y_train), (x_test, y_test) = imdb.load_data(num_words=max_features)\n",
        "x_train = pad_sequences(x_train, maxlen=max_len)\n",
        "x_test = pad_sequences(x_test, maxlen=max_len)"
      ],
      "metadata": {
        "id": "jwdclCr9KjuN"
      },
      "execution_count": 15,
      "outputs": []
    },
    {
      "cell_type": "markdown",
      "source": [
        "# Model Building"
      ],
      "metadata": {
        "id": "u6GZsT69M7bB"
      }
    },
    {
      "cell_type": "code",
      "source": [
        "model = Sequential([\n",
        "    Embedding(max_features, embedding_dim, input_length=max_len),\n",
        "    LSTM(lstm_unis,dropout = 0.2, recurrent_dropout = 0.2),\n",
        "    Dense(1, activation='sigmoid')\n",
        "])"
      ],
      "metadata": {
        "colab": {
          "base_uri": "https://localhost:8080/",
          "height": 0
        },
        "id": "8hL53BTyKjrm",
        "outputId": "8c85ad45-9d03-4d56-ea85-8a51ab87daa6"
      },
      "execution_count": 4,
      "outputs": [
        {
          "output_type": "stream",
          "name": "stderr",
          "text": [
            "/usr/local/lib/python3.11/dist-packages/keras/src/layers/core/embedding.py:90: UserWarning: Argument `input_length` is deprecated. Just remove it.\n",
            "  warnings.warn(\n"
          ]
        }
      ]
    },
    {
      "cell_type": "markdown",
      "source": [
        "# Setting Objective function and Optimization (building blocks of DL)"
      ],
      "metadata": {
        "id": "CZjqYMB8NA3n"
      }
    },
    {
      "cell_type": "code",
      "source": [
        "model.compile(loss = 'binary_crossentropy', optimizer = 'adam', metrics = ['accuracy'])"
      ],
      "metadata": {
        "id": "zalE4UJKKjpF"
      },
      "execution_count": 5,
      "outputs": []
    },
    {
      "cell_type": "markdown",
      "source": [
        "# Training the Model"
      ],
      "metadata": {
        "id": "fvgEpV8LOxFA"
      }
    },
    {
      "cell_type": "code",
      "source": [
        "model.fit(x_train, y_train, batch_size = batch_size, epochs = epochs, validation_data = (x_test, y_test))"
      ],
      "metadata": {
        "colab": {
          "base_uri": "https://localhost:8080/",
          "height": 0
        },
        "id": "GBL1SBBKNU3D",
        "outputId": "01a14e08-0842-49bb-bd52-00c35fdfc571"
      },
      "execution_count": 6,
      "outputs": [
        {
          "output_type": "stream",
          "name": "stdout",
          "text": [
            "Epoch 1/5\n",
            "\u001b[1m196/196\u001b[0m \u001b[32m━━━━━━━━━━━━━━━━━━━━\u001b[0m\u001b[37m\u001b[0m \u001b[1m168s\u001b[0m 843ms/step - accuracy: 0.6841 - loss: 0.5766 - val_accuracy: 0.8482 - val_loss: 0.3570\n",
            "Epoch 2/5\n",
            "\u001b[1m196/196\u001b[0m \u001b[32m━━━━━━━━━━━━━━━━━━━━\u001b[0m\u001b[37m\u001b[0m \u001b[1m211s\u001b[0m 890ms/step - accuracy: 0.8725 - loss: 0.3238 - val_accuracy: 0.8306 - val_loss: 0.3967\n",
            "Epoch 3/5\n",
            "\u001b[1m196/196\u001b[0m \u001b[32m━━━━━━━━━━━━━━━━━━━━\u001b[0m\u001b[37m\u001b[0m \u001b[1m210s\u001b[0m 929ms/step - accuracy: 0.8848 - loss: 0.2953 - val_accuracy: 0.8380 - val_loss: 0.3723\n",
            "Epoch 4/5\n",
            "\u001b[1m196/196\u001b[0m \u001b[32m━━━━━━━━━━━━━━━━━━━━\u001b[0m\u001b[37m\u001b[0m \u001b[1m196s\u001b[0m 898ms/step - accuracy: 0.9041 - loss: 0.2490 - val_accuracy: 0.8491 - val_loss: 0.3795\n",
            "Epoch 5/5\n",
            "\u001b[1m196/196\u001b[0m \u001b[32m━━━━━━━━━━━━━━━━━━━━\u001b[0m\u001b[37m\u001b[0m \u001b[1m192s\u001b[0m 849ms/step - accuracy: 0.9165 - loss: 0.2161 - val_accuracy: 0.8466 - val_loss: 0.3677\n"
          ]
        },
        {
          "output_type": "execute_result",
          "data": {
            "text/plain": [
              "<keras.src.callbacks.history.History at 0x7a3b0da14150>"
            ]
          },
          "metadata": {},
          "execution_count": 6
        }
      ]
    },
    {
      "cell_type": "markdown",
      "source": [
        "# Saving the model as a pickle file"
      ],
      "metadata": {
        "id": "HFr8T1PZObuE"
      }
    },
    {
      "cell_type": "code",
      "source": [
        "model.save('/content/lstm_imdb.h5')"
      ],
      "metadata": {
        "colab": {
          "base_uri": "https://localhost:8080/",
          "height": 0
        },
        "id": "v9vm1J6kNjRq",
        "outputId": "835c9c55-bf1f-4777-e345-a9edc77f9631"
      },
      "execution_count": 7,
      "outputs": [
        {
          "output_type": "stream",
          "name": "stderr",
          "text": [
            "WARNING:absl:You are saving your model as an HDF5 file via `model.save()` or `keras.saving.save_model(model)`. This file format is considered legacy. We recommend using instead the native Keras format, e.g. `model.save('my_model.keras')` or `keras.saving.save_model(model, 'my_model.keras')`. \n"
          ]
        }
      ]
    },
    {
      "cell_type": "code",
      "source": [
        "import pandas as pd\n",
        "import tensorflow as tf\n",
        "from tensorflow.keras.preprocessing.sequence import pad_sequences\n",
        "from tensorflow.keras.preprocessing.text import Tokenizer\n",
        "import numpy as np"
      ],
      "metadata": {
        "id": "ZKo4JM5MO7DM"
      },
      "execution_count": 8,
      "outputs": []
    },
    {
      "cell_type": "markdown",
      "source": [
        "# Loading the model and adding layers to it"
      ],
      "metadata": {
        "id": "xEAG3Y9QTy6g"
      }
    },
    {
      "cell_type": "code",
      "source": [
        "imdb_model = tf.keras.models.load_model('/content/lstm_imdb.h5')\n",
        "num_classes = 1\n",
        "input_layer = imdb_model.layers[0].input # Oth layer will have the info of the input info\n",
        "x = imdb_model.layers[-2].output\n",
        "output_layer = tf.keras.layers.Dense(num_classes, activation='sigmoid')(x)"
      ],
      "metadata": {
        "colab": {
          "base_uri": "https://localhost:8080/",
          "height": 0
        },
        "id": "M9Dqpnz8O7Ad",
        "outputId": "2ae1970b-b167-4c55-859c-bdef55456216"
      },
      "execution_count": 9,
      "outputs": [
        {
          "output_type": "stream",
          "name": "stderr",
          "text": [
            "WARNING:absl:Compiled the loaded model, but the compiled metrics have yet to be built. `model.compile_metrics` will be empty until you train or evaluate the model.\n"
          ]
        }
      ]
    },
    {
      "cell_type": "markdown",
      "source": [
        "# Making a fine tuned model"
      ],
      "metadata": {
        "id": "32eINlTVT2xo"
      }
    },
    {
      "cell_type": "code",
      "source": [
        "fine_tuned_model = tf.keras.Model(inputs = input_layer, outputs = output_layer)"
      ],
      "metadata": {
        "id": "W2YEyplRO69E"
      },
      "execution_count": 10,
      "outputs": []
    },
    {
      "cell_type": "markdown",
      "source": [
        "# Compiling the new model"
      ],
      "metadata": {
        "id": "8k-vw9g9T7n5"
      }
    },
    {
      "cell_type": "code",
      "source": [
        "fine_tuned_model.compile(loss = 'binary_crossentropy', optimizer = 'adam', metrics = ['accuracy'])"
      ],
      "metadata": {
        "id": "0lOPnEmZO65d"
      },
      "execution_count": 11,
      "outputs": []
    },
    {
      "cell_type": "markdown",
      "source": [
        "# Text Processing"
      ],
      "metadata": {
        "id": "Dh_WtN25T-04"
      }
    },
    {
      "cell_type": "code",
      "source": [
        "d = pd.read_csv('/content/test_Lab7.csv')\n",
        "print(d.head())\n",
        "print(d.shape)"
      ],
      "metadata": {
        "colab": {
          "base_uri": "https://localhost:8080/",
          "height": 0
        },
        "id": "YTgvThE_MToa",
        "outputId": "e6e65789-9c1f-45af-d2b3-fc1f86764994"
      },
      "execution_count": 17,
      "outputs": [
        {
          "output_type": "stream",
          "name": "stdout",
          "text": [
            "   category                                             Aspect  \\\n",
            "0         2                                           Great CD   \n",
            "1         2  One of the best game music soundtracks - for a...   \n",
            "2         1                   Batteries died within a year ...   \n",
            "3         2              works fine, but Maha Energy is better   \n",
            "4         2                       Great for the non-audiophile   \n",
            "\n",
            "                                          reviewText  \n",
            "0  My lovely Pat has one of the GREAT voices of h...  \n",
            "1  Despite the fact that I have only played a sma...  \n",
            "2  I bought this charger in Jul 2003 and it worke...  \n",
            "3  Check out Maha Energy's website. Their Powerex...  \n",
            "4  Reviewed quite a bit of the combo players and ...  \n",
            "(400000, 3)\n"
          ]
        }
      ]
    },
    {
      "cell_type": "code",
      "source": [
        "reviews = d['reviewText'].str.lower().str.replace('[^a-zA-Z0-9 ]', '',regex = True)\n",
        "categories = d['category']\n",
        "tokenizer = Tokenizer(num_words = 10000, oov_token = '<oov>')\n",
        "tokenizer.fit_on_texts(reviews)\n",
        "sequences = tokenizer.texts_to_sequences(reviews)\n",
        "x_train = pad_sequences(sequences, maxlen = 200)\n",
        "y_train = np.array(categories)"
      ],
      "metadata": {
        "id": "i9KNxea6O62V"
      },
      "execution_count": 18,
      "outputs": []
    },
    {
      "cell_type": "code",
      "source": [
        "x_train"
      ],
      "metadata": {
        "colab": {
          "base_uri": "https://localhost:8080/",
          "height": 0
        },
        "id": "afJP6qy1MfM2",
        "outputId": "cea67c0f-2f90-4e1c-9fd7-aaaeb81a5796"
      },
      "execution_count": 20,
      "outputs": [
        {
          "output_type": "execute_result",
          "data": {
            "text/plain": [
              "array([[   0,    0,    0, ...,   14,   13,  890],\n",
              "       [   0,    0,    0, ...,  382,  169,    7],\n",
              "       [   0,    0,    0, ...,   95, 3683,  435],\n",
              "       ...,\n",
              "       [   0,    0,    0, ..., 1423,   12,  413],\n",
              "       [   0,    0,    0, ..., 3042,    6,   54],\n",
              "       [   0,    0,    0, ...,    6,  187, 1346]], dtype=int32)"
            ]
          },
          "metadata": {},
          "execution_count": 20
        }
      ]
    },
    {
      "cell_type": "markdown",
      "source": [
        "# Training the model"
      ],
      "metadata": {
        "id": "sW_bPSxUUDIt"
      }
    },
    {
      "cell_type": "code",
      "source": [
        "fine_tuned_model.fit(x_train, y_train, batch_size = 1024, epochs = 5, validation_split = 0.2)"
      ],
      "metadata": {
        "colab": {
          "base_uri": "https://localhost:8080/",
          "height": 0
        },
        "id": "ue8s98fKTYdP",
        "outputId": "edf47d73-f681-4a1e-ef94-39621bf49f04"
      },
      "execution_count": 23,
      "outputs": [
        {
          "output_type": "stream",
          "name": "stdout",
          "text": [
            "Epoch 1/5\n",
            "\u001b[1m313/313\u001b[0m \u001b[32m━━━━━━━━━━━━━━━━━━━━\u001b[0m\u001b[37m\u001b[0m \u001b[1m1088s\u001b[0m 3s/step - accuracy: 0.4992 - loss: -11.2663 - val_accuracy: 0.5036 - val_loss: -28.0533\n",
            "Epoch 2/5\n",
            "\u001b[1m313/313\u001b[0m \u001b[32m━━━━━━━━━━━━━━━━━━━━\u001b[0m\u001b[37m\u001b[0m \u001b[1m1110s\u001b[0m 4s/step - accuracy: 0.4986 - loss: -33.4775 - val_accuracy: 0.5036 - val_loss: -48.2902\n",
            "Epoch 3/5\n",
            "\u001b[1m313/313\u001b[0m \u001b[32m━━━━━━━━━━━━━━━━━━━━\u001b[0m\u001b[37m\u001b[0m \u001b[1m1071s\u001b[0m 3s/step - accuracy: 0.4986 - loss: -53.8154 - val_accuracy: 0.5036 - val_loss: -68.2562\n",
            "Epoch 4/5\n",
            "\u001b[1m313/313\u001b[0m \u001b[32m━━━━━━━━━━━━━━━━━━━━\u001b[0m\u001b[37m\u001b[0m \u001b[1m1105s\u001b[0m 3s/step - accuracy: 0.4991 - loss: -73.9000 - val_accuracy: 0.5036 - val_loss: -88.1220\n",
            "Epoch 5/5\n",
            "\u001b[1m313/313\u001b[0m \u001b[32m━━━━━━━━━━━━━━━━━━━━\u001b[0m\u001b[37m\u001b[0m \u001b[1m1068s\u001b[0m 3s/step - accuracy: 0.4995 - loss: -93.8445 - val_accuracy: 0.5036 - val_loss: -107.9417\n"
          ]
        },
        {
          "output_type": "execute_result",
          "data": {
            "text/plain": [
              "<keras.src.callbacks.history.History at 0x7a3b098b6f10>"
            ]
          },
          "metadata": {},
          "execution_count": 23
        }
      ]
    },
    {
      "cell_type": "markdown",
      "source": [
        "# Saving the new model"
      ],
      "metadata": {
        "id": "h3anI_XXUHkp"
      }
    },
    {
      "cell_type": "code",
      "source": [
        "fine_tuned_model.save('/content/new_model.h5')"
      ],
      "metadata": {
        "id": "CnHunEKfTotA",
        "colab": {
          "base_uri": "https://localhost:8080/",
          "height": 0
        },
        "outputId": "07976d89-a5a4-4b09-cbaa-33d18c796233"
      },
      "execution_count": 24,
      "outputs": [
        {
          "output_type": "stream",
          "name": "stderr",
          "text": [
            "WARNING:absl:You are saving your model as an HDF5 file via `model.save()` or `keras.saving.save_model(model)`. This file format is considered legacy. We recommend using instead the native Keras format, e.g. `model.save('my_model.keras')` or `keras.saving.save_model(model, 'my_model.keras')`. \n"
          ]
        }
      ]
    }
  ]
}