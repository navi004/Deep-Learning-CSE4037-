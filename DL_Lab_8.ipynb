{
  "nbformat": 4,
  "nbformat_minor": 0,
  "metadata": {
    "colab": {
      "provenance": [],
      "authorship_tag": "ABX9TyMAp3zjC8+MAnPnzPdzhopP",
      "include_colab_link": true
    },
    "kernelspec": {
      "name": "python3",
      "display_name": "Python 3"
    },
    "language_info": {
      "name": "python"
    }
  },
  "cells": [
    {
      "cell_type": "markdown",
      "metadata": {
        "id": "view-in-github",
        "colab_type": "text"
      },
      "source": [
        "<a href=\"https://colab.research.google.com/github/navi004/Deep-Learning-CSE4037-/blob/main/DL_Lab_8.ipynb\" target=\"_parent\"><img src=\"https://colab.research.google.com/assets/colab-badge.svg\" alt=\"Open In Colab\"/></a>"
      ]
    },
    {
      "cell_type": "markdown",
      "source": [
        "## LSTM and GRU - Lab A-5.1\n",
        "* Naveen N (22MIA1049)  "
      ],
      "metadata": {
        "id": "HXfwvlOLBTa6"
      }
    },
    {
      "cell_type": "code",
      "source": [
        "# Install kagglehub\n",
        "!pip install -q kagglehub\n",
        "\n",
        "# Import kagglehub\n",
        "import kagglehub\n",
        "\n",
        "# Download the latest version of the IMDB dataset\n",
        "path = kagglehub.dataset_download(\"lakshmi25npathi/imdb-dataset-of-50k-movie-reviews\")\n",
        "\n",
        "print(\"Path to dataset files:\", path)"
      ],
      "metadata": {
        "colab": {
          "base_uri": "https://localhost:8080/"
        },
        "id": "zoBGmrYnxyYu",
        "outputId": "102603aa-fc2a-4339-fd4a-a992c16ed722"
      },
      "execution_count": 14,
      "outputs": [
        {
          "output_type": "stream",
          "name": "stdout",
          "text": [
            "Path to dataset files: /root/.cache/kagglehub/datasets/lakshmi25npathi/imdb-dataset-of-50k-movie-reviews/versions/1\n"
          ]
        }
      ]
    },
    {
      "cell_type": "code",
      "source": [
        "import os\n",
        "\n",
        "# Check the files in the path where the dataset is downloaded\n",
        "print(\"Files in the dataset directory:\")\n",
        "os.listdir(path)"
      ],
      "metadata": {
        "colab": {
          "base_uri": "https://localhost:8080/"
        },
        "id": "jqYTlx8Uy8vY",
        "outputId": "5df88001-9a2e-43e9-f591-72f68ee0862d"
      },
      "execution_count": 15,
      "outputs": [
        {
          "output_type": "stream",
          "name": "stdout",
          "text": [
            "Files in the dataset directory:\n"
          ]
        },
        {
          "output_type": "execute_result",
          "data": {
            "text/plain": [
              "['IMDB Dataset.csv']"
            ]
          },
          "metadata": {},
          "execution_count": 15
        }
      ]
    },
    {
      "cell_type": "code",
      "execution_count": 16,
      "metadata": {
        "id": "MuNxpptwBNFv"
      },
      "outputs": [],
      "source": [
        "import pandas as pd\n",
        "import numpy as np\n",
        "import tensorflow as tf\n",
        "from tensorflow.keras.preprocessing.text import Tokenizer\n",
        "from tensorflow.keras.preprocessing.sequence import pad_sequences\n",
        "from tensorflow.keras.models import Sequential\n",
        "from tensorflow.keras.layers import Embedding, SimpleRNN, LSTM,GRU, Dense\n",
        "from sklearn.model_selection import train_test_split"
      ]
    },
    {
      "cell_type": "markdown",
      "source": [
        "### Loading Dataset"
      ],
      "metadata": {
        "id": "j7F9tEluEOUv"
      }
    },
    {
      "cell_type": "code",
      "source": [
        "data_file = os.path.join(path, 'IMDB Dataset.csv')\n",
        "df = pd.read_csv(data_file)\n",
        "print(df.head())"
      ],
      "metadata": {
        "colab": {
          "base_uri": "https://localhost:8080/"
        },
        "id": "AskqdMHbIcDc",
        "outputId": "c0a0d0a5-db1f-4de2-e634-a25abda4c42c"
      },
      "execution_count": 17,
      "outputs": [
        {
          "output_type": "stream",
          "name": "stdout",
          "text": [
            "                                              review sentiment\n",
            "0  One of the other reviewers has mentioned that ...  positive\n",
            "1  A wonderful little production. <br /><br />The...  positive\n",
            "2  I thought this was a wonderful way to spend ti...  positive\n",
            "3  Basically there's a family where a little boy ...  negative\n",
            "4  Petter Mattei's \"Love in the Time of Money\" is...  positive\n"
          ]
        }
      ]
    },
    {
      "cell_type": "markdown",
      "source": [
        "### Input"
      ],
      "metadata": {
        "id": "eK7pO700ETg2"
      }
    },
    {
      "cell_type": "code",
      "source": [
        "t = Tokenizer(num_words=5000)\n",
        "\n",
        "t.fit_on_texts(df['review'])\n",
        "\n",
        "x = t.texts_to_sequences(df['review'])\n",
        "\n",
        "max_length = 100\n",
        "\n",
        "xp = pad_sequences(x, maxlen=max_length, padding = 'post')"
      ],
      "metadata": {
        "id": "sg7i6QOmKPYg"
      },
      "execution_count": 18,
      "outputs": []
    },
    {
      "cell_type": "code",
      "source": [
        "xp"
      ],
      "metadata": {
        "colab": {
          "base_uri": "https://localhost:8080/"
        },
        "id": "K8WsmaWA7QFH",
        "outputId": "9b96b2de-143b-47b8-d936-552a9a79ecd7"
      },
      "execution_count": 19,
      "outputs": [
        {
          "output_type": "execute_result",
          "data": {
            "text/plain": [
              "array([[ 954,  183,    1, ...,  125, 4103,  486],\n",
              "       [  29,    1, 2294, ..., 1977,   69,  221],\n",
              "       [1026,  220,  230, ...,   63,   16,  350],\n",
              "       ...,\n",
              "       [   9,  200,   26, ..., 1957,    2,    2],\n",
              "       [  16,   47, 4834, ...,   67,  739,   42],\n",
              "       [  49,   14,   47, ...,  794,   11,   17]], dtype=int32)"
            ]
          },
          "metadata": {},
          "execution_count": 19
        }
      ]
    },
    {
      "cell_type": "code",
      "source": [
        "y = np.array(df['sentiment'].map({'positive' : 1, 'negative' : 0}))\n",
        "y"
      ],
      "metadata": {
        "colab": {
          "base_uri": "https://localhost:8080/"
        },
        "id": "Hvfmq1iCMNrQ",
        "outputId": "cb716225-4ccf-4f57-db46-4bc994afd290"
      },
      "execution_count": 20,
      "outputs": [
        {
          "output_type": "execute_result",
          "data": {
            "text/plain": [
              "array([1, 1, 1, ..., 0, 0, 0])"
            ]
          },
          "metadata": {},
          "execution_count": 20
        }
      ]
    },
    {
      "cell_type": "code",
      "source": [
        "x_train, x_test, y_train, y_test = train_test_split(xp, y, test_size=0.2, random_state=42)\n",
        "\n",
        "print(f\"Shape of x_train : {x_train.shape}\")\n",
        "print(f\"Shape of x_test : {x_test.shape}\")"
      ],
      "metadata": {
        "colab": {
          "base_uri": "https://localhost:8080/"
        },
        "id": "w6PQbypCMV5V",
        "outputId": "3ede7388-de01-4ee0-c882-c758210f434c"
      },
      "execution_count": 53,
      "outputs": [
        {
          "output_type": "stream",
          "name": "stdout",
          "text": [
            "Shape of x_train : (40000, 100)\n",
            "Shape of x_test : (10000, 100)\n"
          ]
        }
      ]
    },
    {
      "cell_type": "markdown",
      "source": [
        "### New test record for testing"
      ],
      "metadata": {
        "id": "GK-JQnrZFU8i"
      }
    },
    {
      "cell_type": "code",
      "source": [
        "txt = 'The movie is so boring and the direction is bad'\n",
        "\n",
        "txt = t.texts_to_sequences([txt])\n",
        "\n",
        "txtP = pad_sequences(txt, maxlen=max_length, padding='post')\n"
      ],
      "metadata": {
        "id": "QR998BIBFY9U"
      },
      "execution_count": 22,
      "outputs": []
    },
    {
      "cell_type": "markdown",
      "source": [
        "### RNN Model"
      ],
      "metadata": {
        "id": "3HCp24xJFQqD"
      }
    },
    {
      "cell_type": "code",
      "source": [
        "rnn_model = Sequential([\n",
        "    Embedding(input_dim=5000, output_dim=64, input_length = max_length),\n",
        "    SimpleRNN(32, activation = 'relu'),\n",
        "    Dense(1, activation='sigmoid')\n",
        "])\n",
        "\n",
        "rnn_model.compile(optimizer='adam', loss='binary_crossentropy', metrics=['accuracy'])\n",
        "rnn_history = rnn_model.fit(x_train, y_train, epochs=5, validation_data=(x_test,y_test))"
      ],
      "metadata": {
        "colab": {
          "base_uri": "https://localhost:8080/"
        },
        "id": "IebVOxRfEXwk",
        "outputId": "b37d8c25-0ed2-443d-9841-076dcf281dca"
      },
      "execution_count": 60,
      "outputs": [
        {
          "output_type": "stream",
          "name": "stdout",
          "text": [
            "Epoch 1/5\n",
            "\u001b[1m1250/1250\u001b[0m \u001b[32m━━━━━━━━━━━━━━━━━━━━\u001b[0m\u001b[37m\u001b[0m \u001b[1m38s\u001b[0m 29ms/step - accuracy: 0.6301 - loss: 0.6212 - val_accuracy: 0.8261 - val_loss: 0.4114\n",
            "Epoch 2/5\n",
            "\u001b[1m1250/1250\u001b[0m \u001b[32m━━━━━━━━━━━━━━━━━━━━\u001b[0m\u001b[37m\u001b[0m \u001b[1m44s\u001b[0m 31ms/step - accuracy: 0.8182 - loss: 0.4110 - val_accuracy: 0.7041 - val_loss: 0.5679\n",
            "Epoch 3/5\n",
            "\u001b[1m1250/1250\u001b[0m \u001b[32m━━━━━━━━━━━━━━━━━━━━\u001b[0m\u001b[37m\u001b[0m \u001b[1m37s\u001b[0m 28ms/step - accuracy: 0.7922 - loss: 0.4449 - val_accuracy: 0.8466 - val_loss: 0.3654\n",
            "Epoch 4/5\n",
            "\u001b[1m1250/1250\u001b[0m \u001b[32m━━━━━━━━━━━━━━━━━━━━\u001b[0m\u001b[37m\u001b[0m \u001b[1m36s\u001b[0m 29ms/step - accuracy: 0.8831 - loss: 0.2852 - val_accuracy: 0.8542 - val_loss: 0.3472\n",
            "Epoch 5/5\n",
            "\u001b[1m1250/1250\u001b[0m \u001b[32m━━━━━━━━━━━━━━━━━━━━\u001b[0m\u001b[37m\u001b[0m \u001b[1m40s\u001b[0m 29ms/step - accuracy: 0.9015 - loss: 0.2510 - val_accuracy: 0.8453 - val_loss: 0.3699\n"
          ]
        }
      ]
    },
    {
      "cell_type": "markdown",
      "source": [
        "### Accuracy and loss"
      ],
      "metadata": {
        "id": "XphMUCiGGmoB"
      }
    },
    {
      "cell_type": "code",
      "source": [
        "loss_rnn, accuracy_rnn = rnn_model.evaluate(x_test, y_test)\n",
        "print(f\"Test Loss: {loss_rnn}, Test Accuracy: {accuracy_rnn}\")"
      ],
      "metadata": {
        "colab": {
          "base_uri": "https://localhost:8080/"
        },
        "outputId": "4435afe4-982a-4da7-8fde-028c0c9a5f91",
        "id": "QhxOyKD2GmoG"
      },
      "execution_count": 61,
      "outputs": [
        {
          "output_type": "stream",
          "name": "stdout",
          "text": [
            "\u001b[1m313/313\u001b[0m \u001b[32m━━━━━━━━━━━━━━━━━━━━\u001b[0m\u001b[37m\u001b[0m \u001b[1m2s\u001b[0m 8ms/step - accuracy: 0.8419 - loss: 0.3706\n",
            "Test Loss: 0.36988338828086853, Test Accuracy: 0.845300018787384\n"
          ]
        }
      ]
    },
    {
      "cell_type": "markdown",
      "source": [
        "### Prediction for New Test Record"
      ],
      "metadata": {
        "id": "218oZZH2HrLs"
      }
    },
    {
      "cell_type": "code",
      "source": [
        "pred_rnn = rnn_model.predict(txtP)\n",
        "print(pred_rnn)"
      ],
      "metadata": {
        "colab": {
          "base_uri": "https://localhost:8080/"
        },
        "id": "blH-F7w8GmoC",
        "outputId": "4f678d14-3341-4e2f-fdca-dfc4e2de9830"
      },
      "execution_count": 62,
      "outputs": [
        {
          "output_type": "stream",
          "name": "stdout",
          "text": [
            "\u001b[1m1/1\u001b[0m \u001b[32m━━━━━━━━━━━━━━━━━━━━\u001b[0m\u001b[37m\u001b[0m \u001b[1m0s\u001b[0m 187ms/step\n",
            "[[0.36379907]]\n"
          ]
        }
      ]
    },
    {
      "cell_type": "code",
      "source": [
        "print(\"Sentiment : Positive\" if pred_rnn[0][0] > 0.5 else \"Sentiment : Negative\")"
      ],
      "metadata": {
        "colab": {
          "base_uri": "https://localhost:8080/"
        },
        "id": "T-ThLXRqHvDA",
        "outputId": "a958d281-6dbc-4f32-a7d6-9ef9491072b1"
      },
      "execution_count": 63,
      "outputs": [
        {
          "output_type": "stream",
          "name": "stdout",
          "text": [
            "Sentiment : Negative\n"
          ]
        }
      ]
    },
    {
      "cell_type": "markdown",
      "source": [
        "### LSTM Model"
      ],
      "metadata": {
        "id": "f2aogA9m7rpZ"
      }
    },
    {
      "cell_type": "code",
      "source": [
        "lstm_model = Sequential([\n",
        "    Embedding(input_dim=5000, output_dim=64, input_length = max_length),\n",
        "    LSTM(32, return_sequences=False),\n",
        "    Dense(1, activation='sigmoid')\n",
        "])\n",
        "\n",
        "lstm_model.compile(optimizer='adam', loss='binary_crossentropy', metrics=['accuracy'])\n",
        "lstm_history = lstm_model.fit(x_train, y_train, epochs=5, validation_data=(x_test,y_test))"
      ],
      "metadata": {
        "colab": {
          "base_uri": "https://localhost:8080/"
        },
        "id": "rySpHXDiNNHY",
        "outputId": "6561fac5-9c7d-4bf5-968c-da2d501b08a0"
      },
      "execution_count": 64,
      "outputs": [
        {
          "output_type": "stream",
          "name": "stdout",
          "text": [
            "Epoch 1/5\n",
            "\u001b[1m1250/1250\u001b[0m \u001b[32m━━━━━━━━━━━━━━━━━━━━\u001b[0m\u001b[37m\u001b[0m \u001b[1m61s\u001b[0m 47ms/step - accuracy: 0.7234 - loss: 0.5091 - val_accuracy: 0.8456 - val_loss: 0.3483\n",
            "Epoch 2/5\n",
            "\u001b[1m1250/1250\u001b[0m \u001b[32m━━━━━━━━━━━━━━━━━━━━\u001b[0m\u001b[37m\u001b[0m \u001b[1m80s\u001b[0m 45ms/step - accuracy: 0.8780 - loss: 0.3020 - val_accuracy: 0.8584 - val_loss: 0.3267\n",
            "Epoch 3/5\n",
            "\u001b[1m1250/1250\u001b[0m \u001b[32m━━━━━━━━━━━━━━━━━━━━\u001b[0m\u001b[37m\u001b[0m \u001b[1m82s\u001b[0m 45ms/step - accuracy: 0.9009 - loss: 0.2493 - val_accuracy: 0.8694 - val_loss: 0.3171\n",
            "Epoch 4/5\n",
            "\u001b[1m1250/1250\u001b[0m \u001b[32m━━━━━━━━━━━━━━━━━━━━\u001b[0m\u001b[37m\u001b[0m \u001b[1m56s\u001b[0m 45ms/step - accuracy: 0.9196 - loss: 0.2111 - val_accuracy: 0.8650 - val_loss: 0.3219\n",
            "Epoch 5/5\n",
            "\u001b[1m1250/1250\u001b[0m \u001b[32m━━━━━━━━━━━━━━━━━━━━\u001b[0m\u001b[37m\u001b[0m \u001b[1m84s\u001b[0m 46ms/step - accuracy: 0.9311 - loss: 0.1797 - val_accuracy: 0.8594 - val_loss: 0.3608\n"
          ]
        }
      ]
    },
    {
      "cell_type": "markdown",
      "source": [
        "### Accuracy and loss"
      ],
      "metadata": {
        "id": "wEubri0gF5za"
      }
    },
    {
      "cell_type": "code",
      "source": [
        "loss_lstm, accuracy_lstm = lstm_model.evaluate(x_test, y_test)\n",
        "print(f\"Test Loss: {loss_lstm}, Test Accuracy: {accuracy_lstm}\")"
      ],
      "metadata": {
        "colab": {
          "base_uri": "https://localhost:8080/"
        },
        "id": "aGkHUpuZO1CD",
        "outputId": "823fda24-fa01-4617-8475-2074bf248a1c"
      },
      "execution_count": 65,
      "outputs": [
        {
          "output_type": "stream",
          "name": "stdout",
          "text": [
            "\u001b[1m313/313\u001b[0m \u001b[32m━━━━━━━━━━━━━━━━━━━━\u001b[0m\u001b[37m\u001b[0m \u001b[1m5s\u001b[0m 14ms/step - accuracy: 0.8555 - loss: 0.3663\n",
            "Test Loss: 0.36079633235931396, Test Accuracy: 0.8593999743461609\n"
          ]
        }
      ]
    },
    {
      "cell_type": "markdown",
      "source": [
        "### Prediction for new test Record"
      ],
      "metadata": {
        "id": "Xxbi3kslHjGA"
      }
    },
    {
      "cell_type": "code",
      "source": [
        "pred_lstm = lstm_model.predict(txtP)\n",
        "\n",
        "print(pred_lstm)"
      ],
      "metadata": {
        "colab": {
          "base_uri": "https://localhost:8080/"
        },
        "id": "SdmPSB5hF_Tu",
        "outputId": "270e9e1e-5173-4d2f-f639-e3e37c0c0c2b"
      },
      "execution_count": 66,
      "outputs": [
        {
          "output_type": "stream",
          "name": "stderr",
          "text": [
            "WARNING:tensorflow:5 out of the last 9 calls to <function TensorFlowTrainer.make_predict_function.<locals>.one_step_on_data_distributed at 0x7d6a84351b20> triggered tf.function retracing. Tracing is expensive and the excessive number of tracings could be due to (1) creating @tf.function repeatedly in a loop, (2) passing tensors with different shapes, (3) passing Python objects instead of tensors. For (1), please define your @tf.function outside of the loop. For (2), @tf.function has reduce_retracing=True option that can avoid unnecessary retracing. For (3), please refer to https://www.tensorflow.org/guide/function#controlling_retracing and https://www.tensorflow.org/api_docs/python/tf/function for  more details.\n"
          ]
        },
        {
          "output_type": "stream",
          "name": "stdout",
          "text": [
            "\u001b[1m1/1\u001b[0m \u001b[32m━━━━━━━━━━━━━━━━━━━━\u001b[0m\u001b[37m\u001b[0m \u001b[1m0s\u001b[0m 234ms/step\n",
            "[[0.12583359]]\n"
          ]
        }
      ]
    },
    {
      "cell_type": "code",
      "source": [
        "print(\"Sentiment : Positive\" if pred_lstm[0][0] > 0.5 else \"Sentiment : Negative\")"
      ],
      "metadata": {
        "colab": {
          "base_uri": "https://localhost:8080/"
        },
        "id": "8ohu5dudPrzK",
        "outputId": "e3076a01-695c-4a3f-d1a5-668285676b55"
      },
      "execution_count": 67,
      "outputs": [
        {
          "output_type": "stream",
          "name": "stdout",
          "text": [
            "Sentiment : Negative\n"
          ]
        }
      ]
    },
    {
      "cell_type": "markdown",
      "source": [
        "### GRU Model"
      ],
      "metadata": {
        "id": "jA8zPvbu_lIr"
      }
    },
    {
      "cell_type": "code",
      "source": [
        "gru_model = Sequential([\n",
        "    Embedding(input_dim=5000, output_dim=64, input_length = max_length),\n",
        "    GRU(32, return_sequences = False),\n",
        "    Dense(1, activation='sigmoid')\n",
        "])\n",
        "\n",
        "gru_model.compile(optimizer='adam', loss='binary_crossentropy', metrics=['accuracy'])\n",
        "gru_history = gru_model.fit(x_train, y_train, epochs=5, validation_data=(x_test,y_test))"
      ],
      "metadata": {
        "colab": {
          "base_uri": "https://localhost:8080/"
        },
        "id": "WnAQ2alW_mJs",
        "outputId": "9335adfb-1dec-4e90-d713-1df4d30e9c37"
      },
      "execution_count": 68,
      "outputs": [
        {
          "output_type": "stream",
          "name": "stdout",
          "text": [
            "Epoch 1/5\n",
            "\u001b[1m1250/1250\u001b[0m \u001b[32m━━━━━━━━━━━━━━━━━━━━\u001b[0m\u001b[37m\u001b[0m \u001b[1m82s\u001b[0m 62ms/step - accuracy: 0.7323 - loss: 0.5111 - val_accuracy: 0.8721 - val_loss: 0.3057\n",
            "Epoch 2/5\n",
            "\u001b[1m1250/1250\u001b[0m \u001b[32m━━━━━━━━━━━━━━━━━━━━\u001b[0m\u001b[37m\u001b[0m \u001b[1m82s\u001b[0m 62ms/step - accuracy: 0.8925 - loss: 0.2665 - val_accuracy: 0.8776 - val_loss: 0.2879\n",
            "Epoch 3/5\n",
            "\u001b[1m1250/1250\u001b[0m \u001b[32m━━━━━━━━━━━━━━━━━━━━\u001b[0m\u001b[37m\u001b[0m \u001b[1m78s\u001b[0m 62ms/step - accuracy: 0.9206 - loss: 0.2040 - val_accuracy: 0.8745 - val_loss: 0.3022\n",
            "Epoch 4/5\n",
            "\u001b[1m1250/1250\u001b[0m \u001b[32m━━━━━━━━━━━━━━━━━━━━\u001b[0m\u001b[37m\u001b[0m \u001b[1m79s\u001b[0m 63ms/step - accuracy: 0.9357 - loss: 0.1717 - val_accuracy: 0.8674 - val_loss: 0.3306\n",
            "Epoch 5/5\n",
            "\u001b[1m1250/1250\u001b[0m \u001b[32m━━━━━━━━━━━━━━━━━━━━\u001b[0m\u001b[37m\u001b[0m \u001b[1m84s\u001b[0m 67ms/step - accuracy: 0.9550 - loss: 0.1289 - val_accuracy: 0.8607 - val_loss: 0.3785\n"
          ]
        }
      ]
    },
    {
      "cell_type": "markdown",
      "source": [
        "### Accuracy and loss"
      ],
      "metadata": {
        "id": "y94tMpJmIHj_"
      }
    },
    {
      "cell_type": "code",
      "source": [
        "loss_gru, accuracy_gru = gru_model.evaluate(x_test, y_test)\n",
        "print(f\"Test Loss: {loss_gru}, Test Accuracy: {accuracy_gru}\")"
      ],
      "metadata": {
        "colab": {
          "base_uri": "https://localhost:8080/"
        },
        "id": "g6BI4r05HaU6",
        "outputId": "3859e719-1a74-4207-8b6e-91f6a8eb698a"
      },
      "execution_count": 69,
      "outputs": [
        {
          "output_type": "stream",
          "name": "stdout",
          "text": [
            "\u001b[1m313/313\u001b[0m \u001b[32m━━━━━━━━━━━━━━━━━━━━\u001b[0m\u001b[37m\u001b[0m \u001b[1m6s\u001b[0m 18ms/step - accuracy: 0.8579 - loss: 0.3764\n",
            "Test Loss: 0.37846484780311584, Test Accuracy: 0.8607000112533569\n"
          ]
        }
      ]
    },
    {
      "cell_type": "markdown",
      "source": [
        "### Prediction for New Test Record"
      ],
      "metadata": {
        "id": "FkU75xIcIKbG"
      }
    },
    {
      "cell_type": "code",
      "source": [
        "pred_gru = lstm_model.predict(txtP)\n",
        "\n",
        "print(pred_gru)"
      ],
      "metadata": {
        "colab": {
          "base_uri": "https://localhost:8080/"
        },
        "id": "f7Jws169HjKV",
        "outputId": "f71174ca-6957-4747-b399-f70c4346e0c2"
      },
      "execution_count": 70,
      "outputs": [
        {
          "output_type": "stream",
          "name": "stdout",
          "text": [
            "\u001b[1m1/1\u001b[0m \u001b[32m━━━━━━━━━━━━━━━━━━━━\u001b[0m\u001b[37m\u001b[0m \u001b[1m0s\u001b[0m 55ms/step\n",
            "[[0.12583359]]\n"
          ]
        }
      ]
    },
    {
      "cell_type": "code",
      "source": [
        "print(\"Sentiment : Positive\" if pred_gru[0][0] > 0.5 else \"Sentiment : Negative\")"
      ],
      "metadata": {
        "colab": {
          "base_uri": "https://localhost:8080/"
        },
        "id": "iy79fUrRH8vz",
        "outputId": "95365045-17f2-4564-c1cf-c35466221380"
      },
      "execution_count": 71,
      "outputs": [
        {
          "output_type": "stream",
          "name": "stdout",
          "text": [
            "Sentiment : Negative\n"
          ]
        }
      ]
    },
    {
      "cell_type": "markdown",
      "source": [
        "### Comparison of RNN, LSTM and GRU"
      ],
      "metadata": {
        "id": "kjMsDfSpLK7T"
      }
    },
    {
      "cell_type": "code",
      "source": [
        "\n",
        "print(f\"RNN Test Accuracy: {accuracy_rnn}\")\n",
        "print(f\"LSTM Test Accuracy: {accuracy_lstm}\")\n",
        "print(f\"GRU Test Accuracy: {accuracy_gru}\")\n",
        "\n",
        "model_accuracies = {\n",
        "    \"RNN\": accuracy_rnn,\n",
        "    \"LSTM\": accuracy_lstm,\n",
        "    \"GRU\": accuracy_gru\n",
        "}\n",
        "\n",
        "best_model = max(model_accuracies, key=model_accuracies.get)\n",
        "print(f\"\\nThe best performing model is {best_model} with an accuracy of {model_accuracies[best_model]} outperforming LSTM and SimpleRNN\")\n"
      ],
      "metadata": {
        "id": "wmQMEO7sIBMb",
        "colab": {
          "base_uri": "https://localhost:8080/"
        },
        "outputId": "c3ee75ec-aeac-4996-bfec-51de36bde129"
      },
      "execution_count": 75,
      "outputs": [
        {
          "output_type": "stream",
          "name": "stdout",
          "text": [
            "RNN Test Accuracy: 0.845300018787384\n",
            "LSTM Test Accuracy: 0.8593999743461609\n",
            "GRU Test Accuracy: 0.8607000112533569\n",
            "\n",
            "The best performing model is GRU with an accuracy of 0.8607000112533569 outperforming LSTM and SimpleRNN\n"
          ]
        }
      ]
    },
    {
      "cell_type": "code",
      "source": [
        "import matplotlib.pyplot as plt\n",
        "\n",
        "models = list(model_accuracies.keys())\n",
        "accuracies = list(model_accuracies.values())\n",
        "\n",
        "plt.figure(figsize=(8, 6))\n",
        "plt.bar(models, accuracies, color=['skyblue', 'lightcoral', 'lightgreen'])\n",
        "plt.xlabel(\"Models\")\n",
        "plt.ylabel(\"Accuracy\")\n",
        "plt.title(\"Comparison of Model Accuracies\")\n",
        "plt.ylim(0, 1)\n",
        "plt.show()\n"
      ],
      "metadata": {
        "colab": {
          "base_uri": "https://localhost:8080/",
          "height": 564
        },
        "id": "h86bo6mVLan3",
        "outputId": "3efa3dd2-6277-44ea-c512-bb99f8a16d2f"
      },
      "execution_count": 73,
      "outputs": [
        {
          "output_type": "display_data",
          "data": {
            "text/plain": [
              "<Figure size 800x600 with 1 Axes>"
            ],
            "image/png": "[encoded data removed]"
          },
          "metadata": {}
        }
      ]
    },
    {
      "cell_type": "code",
      "source": [],
      "metadata": {
        "id": "ZHKWCrYuZ6c2"
      },
      "execution_count": null,
      "outputs": []
    }
  ]
}