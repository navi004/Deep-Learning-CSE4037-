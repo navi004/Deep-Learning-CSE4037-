{
  "nbformat": 4,
  "nbformat_minor": 0,
  "metadata": {
    "colab": {
      "provenance": [],
      "authorship_tag": "ABX9TyPwoEB2rm+jBTHjBVAerO3C",
      "include_colab_link": true
    },
    "kernelspec": {
      "name": "python3",
      "display_name": "Python 3"
    },
    "language_info": {
      "name": "python"
    }
  },
  "cells": [
    {
      "cell_type": "markdown",
      "metadata": {
        "id": "view-in-github",
        "colab_type": "text"
      },
      "source": [
        "<a href=\"https://colab.research.google.com/github/navi004/Deep-Learning-CSE4037-/blob/main/dl_lab6.ipynb\" target=\"_parent\"><img src=\"https://colab.research.google.com/assets/colab-badge.svg\" alt=\"Open In Colab\"/></a>"
      ]
    },
    {
      "cell_type": "markdown",
      "source": [
        "## Transfer Learning (Feb 18)\n",
        "### Steps\n",
        "* Choose a pretrained CNN model\n",
        "* Freeze the initial Layers\n",
        "* Replace the final layers\n",
        "* Fine - Tuning"
      ],
      "metadata": {
        "id": "9UTg-KYBCzC0"
      }
    },
    {
      "cell_type": "code",
      "source": [
        "import tensorflow as tf\n",
        "from tensorflow.keras.applications import ResNet50\n",
        "from tensorflow.keras.layers import Dense, GlobalAveragePooling2D\n",
        "from tensorflow.keras.models import Model     ## Pretrained Function to optimize the hyper parameters\n",
        "from tensorflow.keras.preprocessing import image  ## To preprocess the images\n",
        "import numpy as np\n"
      ],
      "metadata": {
        "id": "CQekFb2gDb11"
      },
      "execution_count": null,
      "outputs": []
    },
    {
      "cell_type": "code",
      "source": [
        "base_model = ResNet50(weights='imagenet', include_top = False, input_shape = (224, 224, 3)) #To give custom input - include_top = False\n",
        "\n",
        "for layer in base_model.layers:\n",
        "  layer.trainable = False\n",
        "\n",
        "x = base_model.output\n",
        "x = GlobalAveragePooling2D()(x)\n",
        "\n",
        "x = Dense(256, activation = 'relu')(x)\n",
        "\n",
        "output_layer = Dense(1, activation='sigmoid')(x)\n",
        "\n",
        "model = Model(inputs = base_model.input, outputs = output_layer)\n",
        "\n",
        "model.compile(optimizer = 'adam', loss = 'categorical_crossentropy', metrics = ['accuracy'])\n",
        "\n",
        "#model.fit(new_Data) - for training\n"
      ],
      "metadata": {
        "colab": {
          "base_uri": "https://localhost:8080/"
        },
        "id": "bx0yK0XyFlHN",
        "outputId": "5bb39046-1dd8-48bc-fa5a-6734147b6b69"
      },
      "execution_count": null,
      "outputs": [
        {
          "output_type": "stream",
          "name": "stdout",
          "text": [
            "Downloading data from https://storage.googleapis.com/tensorflow/keras-applications/resnet/resnet50_weights_tf_dim_ordering_tf_kernels_notop.h5\n",
            "\u001b[1m94765736/94765736\u001b[0m \u001b[32m━━━━━━━━━━━━━━━━━━━━\u001b[0m\u001b[37m\u001b[0m \u001b[1m1s\u001b[0m 0us/step\n"
          ]
        }
      ]
    },
    {
      "cell_type": "code",
      "source": [
        "img_path = '/content/istockphoto-1447537941-612x612.jpg'\n",
        "\n",
        "img = image.load_img(img_path, target_size = (224, 224))\n",
        "\n",
        "img_array = np.array(img)  ##image.img_to_arry(img)\n",
        "\n",
        "img_array = np.expand_dims(img_array, axis = 0)\n",
        "\n",
        "img_array = tf.keras.applications.resnet50.preprocess_input(img_array)\n",
        "\n",
        "predictions = model.predict(img_array)\n",
        "print(predictions)\n",
        "\n",
        "#predictions_img = np.argmax(predictions, axis = 1) - if more than one class\n",
        "#print(predictions_img)\n",
        "\n",
        "class_names = [\n",
        "    \"tench, Tinca tinca\",\n",
        "    \"goldfish, Carassius auratus\",\n",
        "    \"great white shark, white shark, man-eater, man-eating shark, Carcharodon carcharias\",\n",
        "    \"tiger shark, Galeocerdo cuvieri\",\n",
        "    \"hammerhead, hammerhead shark\",\n",
        "    \"electric ray, crampfish, numbfish, torpedo\",\n",
        "    \"stingray\",\n",
        "    \"cock\",\n",
        "    \"hen\",\n",
        "    \"ostrich, Struthio camelus\"\n",
        "]\n",
        "\n"
      ],
      "metadata": {
        "colab": {
          "base_uri": "https://localhost:8080/"
        },
        "id": "a1galilSIX8Q",
        "outputId": "5d65ad07-74de-4c49-a65f-3f8398e3567e"
      },
      "execution_count": null,
      "outputs": [
        {
          "output_type": "stream",
          "name": "stdout",
          "text": [
            "\u001b[1m1/1\u001b[0m \u001b[32m━━━━━━━━━━━━━━━━━━━━\u001b[0m\u001b[37m\u001b[0m \u001b[1m0s\u001b[0m 139ms/step\n",
            "[[0.6688396]]\n"
          ]
        }
      ]
    },
    {
      "cell_type": "code",
      "source": [],
      "metadata": {
        "id": "4qN3R4gBLK95"
      },
      "execution_count": null,
      "outputs": []
    }
  ]
}